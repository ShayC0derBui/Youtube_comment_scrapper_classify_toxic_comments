{
 "cells": [
  {
   "cell_type": "code",
   "execution_count": 36,
   "id": "24abfa2d",
   "metadata": {},
   "outputs": [],
   "source": [
    "from selenium import webdriver \n",
    "import pandas as pd \n",
    "from selenium.webdriver.common.by import By \n",
    "from selenium.common.exceptions import NoSuchElementException  \n",
    "from selenium.common.exceptions import NoSuchWindowException \n",
    "import time \n",
    "from tqdm import tqdm \n",
    "from detoxify import Detoxify \n",
    "from multiprocessing import Pool"
   ]
  },
  {
   "cell_type": "code",
   "execution_count": 19,
   "id": "8f8f6dd6",
   "metadata": {},
   "outputs": [
    {
     "name": "stdout",
     "output_type": "stream",
     "text": [
      "Enter the url: https://www.youtube.com/watch?v=mUkTz_1uzSs\n"
     ]
    }
   ],
   "source": [
    "#get url from command line\n",
    "url = input(\"Enter the url: \")\n",
    "\n",
    "#Run driver\n",
    "driver = webdriver.Chrome('chromedriver')\n",
    "\n",
    "#Open url\n",
    "driver.get(url)"
   ]
  },
  {
   "cell_type": "code",
   "execution_count": 20,
   "id": "362683a5",
   "metadata": {},
   "outputs": [],
   "source": [
    "while True:\n",
    "    try:\n",
    "        comment_section = driver.find_element(By.XPATH, '//*[@id=\"comments\"]')\n",
    "        driver.execute_script(\"arguments[0].scrollIntoView();\", comment_section)\n",
    "        scroll = driver.find_element(By.XPATH, '//*[@id=\"content-text\"]')\n",
    "        driver.execute_script(\"arguments[0].scrollIntoView();\", scroll)\n",
    "        break\n",
    "    except NoSuchElementException:\n",
    "        pass"
   ]
  },
  {
   "cell_type": "code",
   "execution_count": 21,
   "id": "9b47fa30",
   "metadata": {},
   "outputs": [],
   "source": [
    "last_height = driver.execute_script(\"return document.documentElement.scrollHeight\")\n",
    "ct = 0\n",
    "while True:\n",
    "    try:\n",
    "        driver.execute_script(\"window.scrollTo(0,document.documentElement.scrollHeight);\")\n",
    "        time.sleep(2)\n",
    "        new_height = driver.execute_script(\"return document.documentElement.scrollHeight\")\n",
    "        if new_height == last_height:\n",
    "            ct = ct + 1\n",
    "            if ct == 5:\n",
    "                break\n",
    "        else:\n",
    "            ct = 0\n",
    "        last_height = new_height\n",
    "    except NoSuchWindowException:\n",
    "        break\n",
    "try:\n",
    "    driver.execute_script(\"window.scrollTo(0,document.documentElement.scrollHeight);\")\n",
    "except NoSuchWindowException:\n",
    "    pass"
   ]
  },
  {
   "cell_type": "code",
   "execution_count": 22,
   "id": "c82c6033",
   "metadata": {},
   "outputs": [],
   "source": [
    "comments = driver.find_elements(By.XPATH, '//*[@id=\"content-text\"]')\n",
    "users = driver.find_elements(By.XPATH, '//*[@id=\"author-text\"]/span')\n",
    "\n",
    "Comments = [comment.text for comment in comments]\n",
    "Users = [user.text for user in users]\n",
    "\n",
    "df = pd.DataFrame(list(zip(Users, Comments)), columns=['User', 'Comment'])"
   ]
  },
  {
   "cell_type": "code",
   "execution_count": 23,
   "id": "3913441f",
   "metadata": {},
   "outputs": [],
   "source": [
    "driver.close()"
   ]
  },
  {
   "cell_type": "code",
   "execution_count": 24,
   "id": "5d2adda8",
   "metadata": {},
   "outputs": [
    {
     "data": {
      "text/html": [
       "<div>\n",
       "<style scoped>\n",
       "    .dataframe tbody tr th:only-of-type {\n",
       "        vertical-align: middle;\n",
       "    }\n",
       "\n",
       "    .dataframe tbody tr th {\n",
       "        vertical-align: top;\n",
       "    }\n",
       "\n",
       "    .dataframe thead th {\n",
       "        text-align: right;\n",
       "    }\n",
       "</style>\n",
       "<table border=\"1\" class=\"dataframe\">\n",
       "  <thead>\n",
       "    <tr style=\"text-align: right;\">\n",
       "      <th></th>\n",
       "      <th>User</th>\n",
       "      <th>Comment</th>\n",
       "    </tr>\n",
       "  </thead>\n",
       "  <tbody>\n",
       "    <tr>\n",
       "      <th>0</th>\n",
       "      <td>L D P</td>\n",
       "      <td>the question we should ask ourselfs is : why a...</td>\n",
       "    </tr>\n",
       "    <tr>\n",
       "      <th>1</th>\n",
       "      <td>Neil S</td>\n",
       "      <td>This is going to get real weird when an AI pro...</td>\n",
       "    </tr>\n",
       "    <tr>\n",
       "      <th>2</th>\n",
       "      <td>Udit Kumar</td>\n",
       "      <td>The fear of the unknown is the greatest fear a...</td>\n",
       "    </tr>\n",
       "    <tr>\n",
       "      <th>3</th>\n",
       "      <td>Leo Celista</td>\n",
       "      <td>If they released this kind of stuff openly to ...</td>\n",
       "    </tr>\n",
       "    <tr>\n",
       "      <th>4</th>\n",
       "      <td>Krazykov</td>\n",
       "      <td>Ultimately what I would love to see from AI is...</td>\n",
       "    </tr>\n",
       "    <tr>\n",
       "      <th>...</th>\n",
       "      <td>...</td>\n",
       "      <td>...</td>\n",
       "    </tr>\n",
       "    <tr>\n",
       "      <th>520</th>\n",
       "      <td>Katzenflauscher</td>\n",
       "      <td>I hate the stupid background music. Absolutely...</td>\n",
       "    </tr>\n",
       "    <tr>\n",
       "      <th>521</th>\n",
       "      <td>Jim McGowen</td>\n",
       "      <td>Sorry but this is categorically incorrect Jord...</td>\n",
       "    </tr>\n",
       "    <tr>\n",
       "      <th>522</th>\n",
       "      <td>DUDE DUDE</td>\n",
       "      <td>damn, fools in comments think soulless machine...</td>\n",
       "    </tr>\n",
       "    <tr>\n",
       "      <th>523</th>\n",
       "      <td>guess who's back g</td>\n",
       "      <td>HORRIBLE</td>\n",
       "    </tr>\n",
       "    <tr>\n",
       "      <th>524</th>\n",
       "      <td>shanesoule</td>\n",
       "      <td>Nerds have made the world so much worse in so ...</td>\n",
       "    </tr>\n",
       "  </tbody>\n",
       "</table>\n",
       "<p>525 rows × 2 columns</p>\n",
       "</div>"
      ],
      "text/plain": [
       "                   User                                            Comment\n",
       "0                 L D P  the question we should ask ourselfs is : why a...\n",
       "1                Neil S  This is going to get real weird when an AI pro...\n",
       "2            Udit Kumar  The fear of the unknown is the greatest fear a...\n",
       "3           Leo Celista  If they released this kind of stuff openly to ...\n",
       "4              Krazykov  Ultimately what I would love to see from AI is...\n",
       "..                  ...                                                ...\n",
       "520     Katzenflauscher  I hate the stupid background music. Absolutely...\n",
       "521         Jim McGowen  Sorry but this is categorically incorrect Jord...\n",
       "522           DUDE DUDE  damn, fools in comments think soulless machine...\n",
       "523  guess who's back g                                           HORRIBLE\n",
       "524          shanesoule  Nerds have made the world so much worse in so ...\n",
       "\n",
       "[525 rows x 2 columns]"
      ]
     },
     "execution_count": 24,
     "metadata": {},
     "output_type": "execute_result"
    }
   ],
   "source": [
    "df\n"
   ]
  },
  {
   "cell_type": "code",
   "execution_count": 25,
   "id": "474c7742",
   "metadata": {},
   "outputs": [
    {
     "data": {
      "text/plain": [
       "(525, 2)"
      ]
     },
     "execution_count": 25,
     "metadata": {},
     "output_type": "execute_result"
    }
   ],
   "source": [
    "df.shape"
   ]
  },
  {
   "cell_type": "code",
   "execution_count": 26,
   "id": "ba24b0f0",
   "metadata": {},
   "outputs": [
    {
     "data": {
      "text/plain": [
       "525"
      ]
     },
     "execution_count": 26,
     "metadata": {},
     "output_type": "execute_result"
    }
   ],
   "source": [
    "size = df.shape[0]\n",
    "size"
   ]
  },
  {
   "cell_type": "code",
   "execution_count": 40,
   "id": "df799bff",
   "metadata": {},
   "outputs": [],
   "source": [
    "df_negative = pd. DataFrame (columns= ['User','Comment'])\n",
    "df_positive = pd. DataFrame (columns= ['User','Comment'])"
   ]
  },
  {
   "cell_type": "code",
   "execution_count": null,
   "id": "56117028",
   "metadata": {},
   "outputs": [],
   "source": [
    "for i in tqdm(range (size)):\n",
    "    text = df.at [i, 'Comment']\n",
    "    \n",
    "    #detoxify analysis for toxic and abusive comments\n",
    "    result = Detoxify('original-small').predict(text)\n",
    "    sentiment_detoxify = max(result.values())\n",
    "    \n",
    "    if sentiment_detoxify > 0.60:\n",
    "        \n",
    "        df_negative = pd.concat([df_negative, df. loc[i:i]], ignore_index=True)\n",
    "    else:\n",
    "        df_positive = pd.concat([df_positive, df.loc[i:i]], ignore_index=True)"
   ]
  },
  {
   "cell_type": "code",
   "execution_count": null,
   "id": "e6154d59",
   "metadata": {},
   "outputs": [],
   "source": [
    "df.to_htm1(\"Comments.html\")\n",
    "df_positive.to_html(\"Pos.html\")\n",
    "df_negative.to_html(\"Neg.html\")"
   ]
  },
  {
   "cell_type": "code",
   "execution_count": null,
   "id": "b57ec1c0",
   "metadata": {},
   "outputs": [],
   "source": [
    "df_negative"
   ]
  },
  {
   "cell_type": "code",
   "execution_count": null,
   "id": "9d203c10",
   "metadata": {},
   "outputs": [],
   "source": [
    "df_positive"
   ]
  },
  {
   "cell_type": "code",
   "execution_count": null,
   "id": "fd18b4d5",
   "metadata": {},
   "outputs": [],
   "source": []
  }
 ],
 "metadata": {
  "kernelspec": {
   "display_name": "Python 3 (ipykernel)",
   "language": "python",
   "name": "python3"
  },
  "language_info": {
   "codemirror_mode": {
    "name": "ipython",
    "version": 3
   },
   "file_extension": ".py",
   "mimetype": "text/x-python",
   "name": "python",
   "nbconvert_exporter": "python",
   "pygments_lexer": "ipython3",
   "version": "3.9.16"
  }
 },
 "nbformat": 4,
 "nbformat_minor": 5
}
